{
 "cells": [
  {
   "cell_type": "markdown",
   "id": "9f40c1a2-6cea-4f73-8033-9db83dc9fe0a",
   "metadata": {},
   "source": [
    "# SpaceX Data Science Project"
   ]
  },
  {
   "cell_type": "markdown",
   "id": "2bd52ae2-5721-497a-a892-e1d90160cec6",
   "metadata": {},
   "source": [
    "## Table of Contents\n",
    "* [Introduction](#introduction)\n",
    "* [Methods](#methods)\n",
    "* [Results and Discussion](#results-and-discussion)"
   ]
  },
  {
   "cell_type": "markdown",
   "id": "c2ab967a-0798-4096-bd8b-3c7310a3578e",
   "metadata": {},
   "source": [
    "## Introduction\n",
    "[SpaceX](https://www.spacex.com) is a privately owned aerospace manufacturer and space transportation company. In 2015 the company achieved it's first successful recovery of the first stage of the rocket when the [Falcon 9 flight 20](https://en.wikipedia.org/wiki/Falcon_9_flight_20) made a vertical landing after launch. This flight was part of a larger effort to develop a reusable launch system, which dramatically reduces cost and waste. Since this successful landing, there have been numerous other attempts, both successful and un-successful. The probability of a successful landing is likely due to a multitude of launch and rocket variables. Therefore, the objective of this project was to develop a model that can predict whether a launch will have a successful first stage landing.  "
   ]
  },
  {
   "cell_type": "markdown",
   "id": "3efc00e0-24fa-4965-888e-c6f8963ee637",
   "metadata": {},
   "source": [
    "## Methods\n",
    "### Data acquisition\n",
    "Data were collected by calling the SpaceX API and scraping the [SpaceX Wikipedia page](https://en.wikipedia.org/wiki/SpaceX). Data were filtered to contain only hose relating to Falcon 9 launches and specific variables collected are listed below.\n",
    "\n",
    "#### SpaceX API\n",
    "* Flight Number - The number of the flight, with 1 indicating the first Falcon 9 flight\n",
    "* Date - The date of the flight\n",
    "* Booster Version - They type of booster uses in the launch\n",
    "* Payload Mass- The mass of the payload in kg\n",
    "* Orbit - The type of orbit the payload was going into (ex. Near Earth Orbit)\n",
    "* Launch Site - The ID of the site the rocker was launched from\n",
    "* Outcome - The outcome (success/failure) and the method of landing (ex. drone ship)\n",
    "* Flights - The number of previous flights\n",
    "* Grid Fins - Whether grid fins were present on the rocket\n",
    "* Reused - Indicates if the rocket was used prior to this launch\n",
    "* Legs - Indicates if the ship has landing legs\n",
    "* Landing pad - Indicates the type of landing pad used by the first stage\n",
    "* Block - The core block number\n",
    "* Reused Count - The number of times the rocket has been reused\n",
    "* Serial - The capsule serial\n",
    "* Longitude - The longitude of the launch site\n",
    "* Latitude - The latitude of the launch site\n",
    "\n",
    "#### Scraping Wikipedia\n",
    "* Flight Number - The number of the flight, with 1 being the first Falcon 9 launch\n",
    "* Launch Site - The launch site of the rocket\n",
    "* Payload - The payload the rocket was launching\n",
    "* Payload mass - The mass of the payload in kg\n",
    "* Orbit - They type of orbit that was intended (ex. Low Earth Orbit)\n",
    "* Customer - The customer that SpaceX was launching the rocket for (ex. NASA)\n",
    "* Launch outcome - The outcome of the launch (success/failure)\n",
    "* Version - The version of the booster (F9)\n",
    "* Booster - The version of the F9 booster used\n",
    "* Booster landing - Indicates the success, failure, or lack of attempt at re-landing the booster\n",
    "* Date - The date of lauch\n",
    "* Time - The time of launch"
   ]
  },
  {
   "cell_type": "markdown",
   "id": "5dd8e0a3-86a0-4c50-a476-46ece5a4aaa8",
   "metadata": {},
   "source": [
    "### Data Cleaning\n",
    "Data were checked for the presence of missing values. There were 5 instances in which `PayloadMass` was missing. This was dealt with by imputing the mean `PayloadMass` for these cases.\n",
    "\n",
    "As described above, the landing outcome feature indicates both the success or failure of the landing as well as the type of landing. Therefore, a new feature, `Outcome` was created to indicate the success (1) or failure (0) of the landing. This was later used as the prediction target. \n",
    "\n",
    "### Feature Selection\n",
    "\n",
    "\n",
    "The features `Orbit`, `LaunchSite`, `LandingPad`, and `Serial` were categorical variables. These were one-hot encoded and then merged with "
   ]
  },
  {
   "cell_type": "code",
   "execution_count": null,
   "id": "cc82a2c3-f034-4d54-9586-736e7a1f2aa9",
   "metadata": {},
   "outputs": [],
   "source": []
  }
 ],
 "metadata": {
  "kernelspec": {
   "display_name": "Python 3",
   "language": "python",
   "name": "python3"
  },
  "language_info": {
   "codemirror_mode": {
    "name": "ipython",
    "version": 3
   },
   "file_extension": ".py",
   "mimetype": "text/x-python",
   "name": "python",
   "nbconvert_exporter": "python",
   "pygments_lexer": "ipython3",
   "version": "3.8.8"
  }
 },
 "nbformat": 4,
 "nbformat_minor": 5
}
