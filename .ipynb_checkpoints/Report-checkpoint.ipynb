{
 "cells": [
  {
   "cell_type": "markdown",
   "id": "9f40c1a2-6cea-4f73-8033-9db83dc9fe0a",
   "metadata": {},
   "source": [
    "# SpaceX Data Science Project"
   ]
  },
  {
   "cell_type": "markdown",
   "id": "2bd52ae2-5721-497a-a892-e1d90160cec6",
   "metadata": {},
   "source": [
    "## Table of Contents\n",
    "* [Introduction](#introduction)\n",
    "* [Methods](#methods)\n",
    "* [Results and Discussion](#results-and-discussion)\n",
    "* [Conclusions](#conclusions)"
   ]
  },
  {
   "cell_type": "markdown",
   "id": "c2ab967a-0798-4096-bd8b-3c7310a3578e",
   "metadata": {},
   "source": [
    "## Introduction\n",
    "[SpaceX](https://www.spacex.com) is a privately owned aerospace manufacturer and space transportation company. In 2015 the company achieved it's first successful recovery of the first stage of the rocket when the [Falcon 9 flight 20](https://en.wikipedia.org/wiki/Falcon_9_flight_20) made a vertical landing after launch. This flight was part of a larger effort to develop a reusable launch system, which dramatically reduces cost and waste. Since this successful landing, there have been numerous other attempts, both successful and un-successful. The probability of a successful landing is likely due to a multitude of launch and rocket variables. Therefore, the objective of this project was to develop a model that can predict whether a launch will have a successful first stage landing.  "
   ]
  },
  {
   "cell_type": "markdown",
   "id": "3efc00e0-24fa-4965-888e-c6f8963ee637",
   "metadata": {},
   "source": [
    "## Methods\n",
    "### Data acquisition\n",
    "Data were collected by calling the SpaceX API and scraping the [SpaceX Wikipedia page](https://en.wikipedia.org/wiki/SpaceX). Data were filtered to contain only hose relating to Falcon 9 launches and specific variables collected are listed below.\n",
    "\n",
    "#### SpaceX API\n",
    "* Flight Number - The number of the flight, with 1 indicating the first Falcon 9 flight\n",
    "* Date - The date of the flight\n",
    "* Booster Version - They type of booster uses in the launch\n",
    "* Payload Mass- The mass of the payload in kg\n",
    "* Orbit - The type of orbit the payload was going into (ex. Near Earth Orbit)\n",
    "* Launch Site - The ID of the site the rocker was launched from\n",
    "* Outcome - The outcome (success/failure) and the method of landing (ex. drone ship)\n",
    "* Flights - The number of previous flights\n",
    "* Grid Fins - Whether grid fins were present on the rocket\n",
    "* Reused - Indicates if the rocket was used prior to this launch\n",
    "* Legs - Indicates if the ship has landing legs\n",
    "* Landing pad - Indicates the type of landing pad used by the first stage\n",
    "* Block - The core block number\n",
    "* Reused Count - The number of times the rocket has been reused\n",
    "* Serial - The capsule serial\n",
    "* Longitude - The longitude of the launch site\n",
    "* Latitude - The latitude of the launch site\n",
    "\n",
    "#### Scraping Wikipedia\n",
    "* Flight Number - The number of the flight, with 1 being the first Falcon 9 launch\n",
    "* Launch Site - The launch site of the rocket\n",
    "* Payload - The payload the rocket was launching\n",
    "* Payload mass - The mass of the payload in kg\n",
    "* Orbit - They type of orbit that was intended (ex. Low Earth Orbit)\n",
    "* Customer - The customer that SpaceX was launching the rocket for (ex. NASA)\n",
    "* Launch outcome - The outcome of the launch (success/failure)\n",
    "* Version - The version of the booster (F9)\n",
    "* Booster - The version of the F9 booster used\n",
    "* Booster landing - Indicates the success, failure, or lack of attempt at re-landing the booster\n",
    "* Date - The date of lauch\n",
    "* Time - The time of launch"
   ]
  },
  {
   "cell_type": "markdown",
   "id": "5dd8e0a3-86a0-4c50-a476-46ece5a4aaa8",
   "metadata": {},
   "source": [
    "### Data Cleaning\n",
    "Data were checked for the presence of missing values. There were 5 instances in which `PayloadMass` was missing. This was dealt with by imputing the mean `PayloadMass` for these cases.\n",
    "\n",
    "As described above, the landing outcome feature indicates both the success or failure of the landing as well as the type of landing. Therefore, a new feature, `Outcome` was created to indicate the success (1) or failure (0) of the landing. This was later used as the prediction target. \n",
    "\n",
    "### Feature Selection\n",
    "\n",
    "The following features were selected for predictive modeling based on relevance and correlation with the outcome: `FlightNumber`, `PayloadMass`, `Flights`, `Block`, `ReusedCount`, `Orbit`, `Serial`, `GridFins`, and `Legs`. The variables `Orbit`, `Serial`, `GridFins`, and `Legs` were categorical variables, so they were one-hot encoded and merges with the rest of the feature set."
   ]
  },
  {
   "cell_type": "markdown",
   "id": "d3dc4a88-4575-4767-a01c-f73352ce468b",
   "metadata": {},
   "source": [
    "### Model Derivation"
   ]
  },
  {
   "cell_type": "markdown",
   "id": "bd016709-8757-47c0-af8b-e7d9cede07c2",
   "metadata": {},
   "source": [
    "#### Training and Testing Data\n",
    "Prior to any pre-processing, the data set, which had 90 observations, was split into training and testing data with a test size of 20%. \n",
    "\n",
    "#### Preprocessing\n",
    "All features were standardized by dividing the difference from the mean by the standard deviation using the `StandardScaler()` method. The equation for this is shown below.\n",
    "\n",
    "$\\huge z = \\frac{x - \\mu}{\\sigma}$ **Standardization Equation**\n",
    "\n",
    "Where x is the observed value, $\\mu$ is the mean of that feature, and $\\sigma$ is the standard deviation of that feature.\n",
    "\n",
    "#### Hyperparameter selection\n",
    "Data were fit using logistic regression (Table 1), support vector classification (Table 2), decision tree classification (Table 3), and k-Nearest Neighbors (Table 4). Hyperparameters were selected using a grid search to find the combination of parameters that maximized the accuracy. Tested parameters are shown in the tables below. \n",
    "\n",
    "**Table 1:** Hyperparameters tested for logistic regression. The best combination of parameters is bolded.\n",
    "\n",
    "|    C     | Pentlty | Solver |\n",
    "| -------- | ------- | ------ |\n",
    "| **0.01** | **L2**  | **LBFGS**|\n",
    "| 0.1      |         |        |\n",
    "| 1        |         |        | \n",
    "\n",
    "\n",
    "**Table 2:** Hyperparameters tested for support vector classification. The best combination of parameters is bolded.\n",
    "\n",
    "| Kernel     | C                            | Gamma                        |\n",
    "| ------     | :--------------------------: | :--------------------------: |\n",
    "| Linear     | 1.0 $\\times$ 10<sup>-3</sup> | 1.0 $\\times$ 10<sup>-3</sup> |\n",
    "| RBF        |3.16 $\\times$ 10<sup>-2</sup>|**3.16 $\\times$ 10<sup>-2</sup>**|\n",
    "| Polynomial | **1**                        | 1                            |\n",
    "| **Sigmoid**| 3.16 $\\times$ 10<sup>1</sup> | 3.16 $\\times$ 10<sup>1</sup> |\n",
    "|            | 1.00 $\\times$ 10<sup>3</sup> | 1.00 $\\times$ 10<sup>3</sup> |\n",
    "\n",
    "\n",
    "**Table 3:** Hyperparameters tested in the decision tree grid search. The best combination of parameters is bolded.\n",
    "\n",
    "| Criterion | Splitter | Max Depth | Max Features | Min # of Samples/leaf | Min Sample Split |\n",
    "| :-------: | :------: | :-------: | :----------: | :-------------------: | :--------------: |\n",
    "| Gini      | Best     | 2         | **Auto**     | 1                     | 2                |\n",
    "|**Entropy**|**Random**| 4         | SQRT         | **2**                 | 5                |\n",
    "|           |          | **6**     |              | 4                     | **10**           |\n",
    "|           |          | 8         |              |                       |                  |\n",
    "|           |          | 10        |              |                       |                  |\n",
    "|           |          | 12        |              |                       |                  |\n",
    "|           |          | 14        |              |                       |                  |\n",
    "|           |          | 16        |              |                       |                  |\n",
    "|           |          | 18        |              |                       |                  |\n",
    "\n",
    "\n",
    "**Table 4:** Hyperparameters tested in the k-Nearest Neighbors grid search. The best combination of parameters is bolded.\n",
    "\n",
    "| n Neighbors | Algorithm | p   |\n",
    "| ----------- | --------- | --- |\n",
    "| 1           | **Auto**  | **1**|\n",
    "| 2           | Ball Tree | 2   |\n",
    "| 3           | KD Tree   |     |\n",
    "| 4           | Brute     |     |\n",
    "| 5           |           |     |\n",
    "| 6           |           |     |\n",
    "| 7           |           |     |\n",
    "| 8           |           |     |\n",
    "| 9           |           |     |\n",
    "| **10**      |           |     |"
   ]
  },
  {
   "cell_type": "markdown",
   "id": "9aab119b-2c22-4ab2-9e35-f561d413ad98",
   "metadata": {},
   "source": [
    "## Results and Discussion"
   ]
  },
  {
   "cell_type": "markdown",
   "id": "1773c8f6-a80f-4bb3-9016-2813aa35efdd",
   "metadata": {},
   "source": [
    "### Exploratory Data Analysis\n",
    "In general, as the flight number increased so did the chance for a successful landing (Figure 1). This is unsurprising as the cause of each failed attempt can be corrected in a subsequent launch. \n",
    "\n",
    "**Figure 1:** Payload mass vs. flight number. The Booster landing success or failure is indicated by the class, with 0 indicating failure and 1 indicating success.\n",
    "\n",
    "<img src=\"payload_flight_num.png\" alt=\"Payload mass vs flight number\" width=800, height=800/>\n",
    "\n",
    "It was noted that the ratio of successes to failures was dependant on the launch site (Figure 2). The launch site CCAFS SLC 40 had the greatest number of failures. However, it should be noted that this site contained nearly all of the early launches (flight number < 20). Site KSC LC 39A did not launch a rocket until after 20 previous flights.\n",
    "\n",
    "**Figure 2:** Launch site vs. flight number. The Booster landing success or failure is indicated by the class, with 0 indicating failure and 1 indicating success.\n",
    "\n",
    "<img src=\"launch_site_flight_num.png\" alt=\"Launch site sucesses\" width=400, height=400/>\n",
    "\n",
    "The payload mass was dependent on the site the rocket was launched from (Figure 3). Site VAFB SLC-4E contained no rockets greater than 10,000 kg and only a single rocket greater than 5,000 kg. \n",
    "\n",
    "**Figure 3:** Launch site vs. payload mass. The Booster landing success or failure is indicated by the class, with 0 indicating failure and 1 indicating success.\n",
    "\n",
    "<img src='site_payload.png' alt='Site vs. payload mass' width=400 height=400/>\n",
    "\n",
    "Rockets intended for ES-L1, geosynchronous, highly elliptical, and sun-synchronous orbits all had a 100% success rate for rocket landing (Figure 4). Other types of launches had varying rates of success, but the success rate was generally greater than 50%. \n",
    "\n",
    "**Figure 4:** Booster landing success rate vs. orbit type.\n",
    "\n",
    "<img src='success_orbit.png' alt=\"Orbit type and success rate\" width=400 height=400/>\n",
    "\n",
    "As would be expected, the success rate increased with time (Figure 5). This is likely due to a combination of factors including increased flight number, technical developments in the booster, improved engineering, and advances in research.\n",
    "\n",
    "**Figure 5:** Booster landing success rate vs year for rockets launched by SpaceX.\n",
    "\n",
    "<img src='success_year.png' alt=\"Success rate vs. year\" width=400 height=400/>"
   ]
  },
  {
   "cell_type": "markdown",
   "id": "d8364699-67df-4f1c-94ea-a68af2cf0a02",
   "metadata": {},
   "source": [
    "### Model Performance\n",
    "The performance of models for the test set is shown in Table 5. All models performed equally well against the test data, but k-Nearest Neighbors provided the greatest accuracy score on the training data. Models were able to correctly classify all successful launches, but suffered from a large proportion of false positives. The recall score for the negative class was only 50%. It is possible that this is due to the greater proportion of sucesses to failures in the data set, and this may be improved by modifying the sampling technique (ex. stratified sampling). \n",
    "\n",
    "**Table 5:** Performance metrics of the various models used to predict the success or failure of a SpaceX booster landing.\n",
    "\n",
    "| Model               | Precision-0 | Precision-1 | Recall-0 | Recall-1 | F1-0 | F1-1 |\n",
    "| ------------------- | ----------- | ----------- | -------- | -------- | ---- | ---- |\n",
    "| Logistic Regression | 1.00        | 0.80        | 0.50     | 1.00     | 0.67 | 0.89 |\n",
    "| Decision Tree       | 1.00        | 0.80        | 0.50     | 1.00     | 0.67 | 0.89 |\n",
    "| SVC                 | 1.00        | 0.80        | 0.50     | 1.00     | 0.67 | 0.89 |\n",
    "| k-Nearest Neighbors | 1.00        | 0.80        | 0.50     | 1.00     | 0.67 | 0.89 |"
   ]
  },
  {
   "cell_type": "markdown",
   "id": "120b1e84-eb13-4701-ab75-6323c26c579d",
   "metadata": {},
   "source": [
    "## Conclusions\n",
    "While accuracy tended to be good for the models (83%), all models suffered from a large degree of false positives. In fact, the models tested only correctly predicted half of the failed launches. Therefore, additional data should be collected before relying on these models to predict the result of a booster landing."
   ]
  },
  {
   "cell_type": "code",
   "execution_count": null,
   "id": "63c35ae9-abd5-467c-add6-62787600c339",
   "metadata": {},
   "outputs": [],
   "source": []
  }
 ],
 "metadata": {
  "kernelspec": {
   "display_name": "Python 3",
   "language": "python",
   "name": "python3"
  },
  "language_info": {
   "codemirror_mode": {
    "name": "ipython",
    "version": 3
   },
   "file_extension": ".py",
   "mimetype": "text/x-python",
   "name": "python",
   "nbconvert_exporter": "python",
   "pygments_lexer": "ipython3",
   "version": "3.8.8"
  }
 },
 "nbformat": 4,
 "nbformat_minor": 5
}
